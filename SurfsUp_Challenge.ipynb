{
 "cells": [
  {
   "cell_type": "code",
   "execution_count": null,
   "metadata": {},
   "outputs": [],
   "source": [
    "# Dependencies\n",
    "import numpy as np\n",
    "import datetime as dt\n",
    "import pandas as pd\n",
    "# Python SQL toolkit and Object Relational Mapper\n",
    "import sqlalchemy\n",
    "from sqlalchemy.ext.automap import automap_base\n",
    "from sqlalchemy.orm import Session\n",
    "from sqlalchemy import create_engine, func"
   ]
  },
  {
   "cell_type": "code",
   "execution_count": null,
   "metadata": {},
   "outputs": [],
   "source": [
    "engine = create_engine(\"sqlite:///hawaii.sqlite\")\n",
    "\n",
    "# reflect an existing database into a new model\n",
    "Base = automap_base()\n",
    "# reflect the tables\n",
    "Base.prepare(engine, reflect=True)\n",
    "\n",
    "# Save references to each table\n",
    "Measurement = Base.classes.measurement\n",
    "Station = Base.classes.station"
   ]
  },
  {
   "cell_type": "code",
   "execution_count": null,
   "metadata": {},
   "outputs": [],
   "source": [
    "# Create our session (link) from Python to the DB\n",
    "session = Session(engine)"
   ]
  },
  {
   "cell_type": "markdown",
   "metadata": {},
   "source": [
    "## D1: Determine the Summary Statistics for June"
   ]
  },
  {
   "cell_type": "code",
   "execution_count": null,
   "metadata": {},
   "outputs": [],
   "source": [
    "# 1. Import the sqlalchemy extract function.\n",
    "from sqlalchemy import extract\n",
    "\n",
    "# 2. Write a query that filters the Measurement table to retrieve the temperatures for the month of June. \n",
    "start_10 = dt.date(2010, 6, 1)\n",
    "end_10 = dt.date(2010, 7, 1)\n",
    "start_11 = dt.date(2011, 6, 1)\n",
    "end_11 = dt.date(2011, 7, 1)\n",
    "start_12 = dt.date(2012, 6, 1)\n",
    "end_12 = dt.date(2012, 7, 1)\n",
    "start_13 = dt.date(2013, 6, 1)\n",
    "end_13 = dt.date(2013, 7, 1)\n",
    "start_14 = dt.date(2014, 6, 1)\n",
    "end_14 = dt.date(2014, 7, 1)\n",
    "start_15 = dt.date(2015, 6, 1)\n",
    "end_15 = dt.date(2015, 7, 1)\n",
    "start_16 = dt.date(2016, 6, 1)\n",
    "end_16 = dt.date(2016, 7, 1)\n",
    "start_17 = dt.date(2017, 6, 1)\n",
    "end_17 = dt.date(2017, 7, 1)\n",
    "\n",
    "result = []\n",
    "result=session.query(Measurement.date, Measurement.tobs).\\\n",
    "filter((Measurement.date >= start_10 ) & (Measurement.date < end_10 )|\n",
    "    (Measurement.date >= start_11 ) & (Measurement.date < end_11 )|\n",
    "    (Measurement.date >= start_12 ) & (Measurement.date < end_12 )|\n",
    "    (Measurement.date >= start_13 ) & (Measurement.date < end_13 )|\n",
    "    (Measurement.date >= start_14 ) & (Measurement.date < end_14 )|\n",
    "    (Measurement.date >= start_15 ) & (Measurement.date < end_15 )|\n",
    "    (Measurement.date >= start_16 ) & (Measurement.date < end_16 )|\n",
    "    (Measurement.date >= start_17 ) & (Measurement.date < end_17 )).all()\n",
    "print(result)\n",
    "    \n"
   ]
  },
  {
   "cell_type": "code",
   "execution_count": null,
   "metadata": {},
   "outputs": [],
   "source": [
    "#  3. Convert the June temperatures to a list.\n",
    "print(list(result))"
   ]
  },
  {
   "cell_type": "code",
   "execution_count": null,
   "metadata": {},
   "outputs": [],
   "source": [
    "# 4. Create a DataFrame from the list of temperatures for the month of June. \n",
    "june_df = pd.DataFrame(result, columns=['date','June Temprature'])\n",
    "june_df = june_df.set_index(june_df['date'], inplace=False)\n",
    "print(june_df)"
   ]
  },
  {
   "cell_type": "code",
   "execution_count": null,
   "metadata": {},
   "outputs": [],
   "source": [
    "# 5. Calculate and print out the summary statistics for the June temperature DataFrame.\n",
    "june_df.describe()"
   ]
  },
  {
   "cell_type": "markdown",
   "metadata": {},
   "source": [
    "## D2: Determine the Summary Statistics for December"
   ]
  },
  {
   "cell_type": "code",
   "execution_count": null,
   "metadata": {},
   "outputs": [],
   "source": [
    "# 6. Write a query that filters the Measurement table to retrieve the temperatures for the month of December.\n",
    "dec_0 = dt.date(2010, 12, 1)\n",
    "jan_0 = dt.date(2011, 1, 1)\n",
    "dec_1 = dt.date(2011, 12, 1)\n",
    "jan_1 = dt.date(2012, 1, 1)\n",
    "dec_2 = dt.date(2012, 12, 1)\n",
    "jan_2 = dt.date(2013, 1, 1)\n",
    "dec_3 = dt.date(2013, 12, 1)\n",
    "jan_3 = dt.date(2014, 1, 1)\n",
    "dec_4 = dt.date(2014, 12, 1)\n",
    "jan_4 = dt.date(2015, 1, 1)\n",
    "dec_5 = dt.date(2015, 12, 1)\n",
    "jan_5 = dt.date(2016, 1, 1)\n",
    "dec_6 = dt.date(2016, 12, 1)\n",
    "jan_6 = dt.date(2017, 1, 1)\n",
    "dec_7 = dt.date(2017, 12, 1)"
   ]
  },
  {
   "cell_type": "code",
   "execution_count": null,
   "metadata": {},
   "outputs": [],
   "source": [
    "# 7. Convert the December temperatures to a list.\n",
    "result2 = []\n",
    "result2 = session.query(Measurement.date, Measurement.tobs).\\\n",
    "filter((Measurement.date >= dec_0) & (Measurement.date < jan_0)|\n",
    "       (Measurement.date >= dec_1) & (Measurement.date < jan_1)|\n",
    "       (Measurement.date >= dec_2) & (Measurement.date < jan_2)|\n",
    "       (Measurement.date >= dec_3) & (Measurement.date < jan_3)|\n",
    "       (Measurement.date >= dec_4) & (Measurement.date < jan_4)|\n",
    "       (Measurement.date >= dec_5) & (Measurement.date < jan_5)|\n",
    "       (Measurement.date >= dec_6) & (Measurement.date < jan_6)|\n",
    "       (Measurement.date >= dec_7)).all()\n",
    "print(result2)"
   ]
  },
  {
   "cell_type": "code",
   "execution_count": 44,
   "metadata": {},
   "outputs": [
    {
     "name": "stdout",
     "output_type": "stream",
     "text": [
      "                  date  December Temps\n",
      "date                                  \n",
      "2010-12-01  2010-12-01            76.0\n",
      "2010-12-03  2010-12-03            74.0\n",
      "2010-12-04  2010-12-04            74.0\n",
      "2010-12-06  2010-12-06            64.0\n",
      "2010-12-07  2010-12-07            64.0\n",
      "...                ...             ...\n",
      "2016-12-27  2016-12-27            71.0\n",
      "2016-12-28  2016-12-28            71.0\n",
      "2016-12-29  2016-12-29            69.0\n",
      "2016-12-30  2016-12-30            65.0\n",
      "2016-12-31  2016-12-31            65.0\n",
      "\n",
      "[1517 rows x 2 columns]\n"
     ]
    }
   ],
   "source": [
    "# 8. Create a DataFrame from the list of temperatures for the month of December. \n",
    "#print(list(result2))\n",
    "\n",
    "dec_df = pd.DataFrame(result2, columns=['date', 'December Temps'])\n",
    "dec_df = dec_df.set_index(dec_df['date'], inplace=False)\n",
    "print(dec_df)"
   ]
  },
  {
   "cell_type": "code",
   "execution_count": 45,
   "metadata": {},
   "outputs": [
    {
     "data": {
      "text/html": [
       "<div>\n",
       "<style scoped>\n",
       "    .dataframe tbody tr th:only-of-type {\n",
       "        vertical-align: middle;\n",
       "    }\n",
       "\n",
       "    .dataframe tbody tr th {\n",
       "        vertical-align: top;\n",
       "    }\n",
       "\n",
       "    .dataframe thead th {\n",
       "        text-align: right;\n",
       "    }\n",
       "</style>\n",
       "<table border=\"1\" class=\"dataframe\">\n",
       "  <thead>\n",
       "    <tr style=\"text-align: right;\">\n",
       "      <th></th>\n",
       "      <th>December Temps</th>\n",
       "    </tr>\n",
       "  </thead>\n",
       "  <tbody>\n",
       "    <tr>\n",
       "      <th>count</th>\n",
       "      <td>1517.000000</td>\n",
       "    </tr>\n",
       "    <tr>\n",
       "      <th>mean</th>\n",
       "      <td>71.041529</td>\n",
       "    </tr>\n",
       "    <tr>\n",
       "      <th>std</th>\n",
       "      <td>3.745920</td>\n",
       "    </tr>\n",
       "    <tr>\n",
       "      <th>min</th>\n",
       "      <td>56.000000</td>\n",
       "    </tr>\n",
       "    <tr>\n",
       "      <th>25%</th>\n",
       "      <td>69.000000</td>\n",
       "    </tr>\n",
       "    <tr>\n",
       "      <th>50%</th>\n",
       "      <td>71.000000</td>\n",
       "    </tr>\n",
       "    <tr>\n",
       "      <th>75%</th>\n",
       "      <td>74.000000</td>\n",
       "    </tr>\n",
       "    <tr>\n",
       "      <th>max</th>\n",
       "      <td>83.000000</td>\n",
       "    </tr>\n",
       "  </tbody>\n",
       "</table>\n",
       "</div>"
      ],
      "text/plain": [
       "       December Temps\n",
       "count     1517.000000\n",
       "mean        71.041529\n",
       "std          3.745920\n",
       "min         56.000000\n",
       "25%         69.000000\n",
       "50%         71.000000\n",
       "75%         74.000000\n",
       "max         83.000000"
      ]
     },
     "execution_count": 45,
     "metadata": {},
     "output_type": "execute_result"
    }
   ],
   "source": [
    "# 9. Calculate and print out the summary statistics for the Decemeber temperature DataFrame.\n",
    "dec_df.describe()"
   ]
  }
 ],
 "metadata": {
  "kernelspec": {
   "display_name": "Python 3.7.6 ('bootcamp')",
   "language": "python",
   "name": "python3"
  },
  "language_info": {
   "codemirror_mode": {
    "name": "ipython",
    "version": 3
   },
   "file_extension": ".py",
   "mimetype": "text/x-python",
   "name": "python",
   "nbconvert_exporter": "python",
   "pygments_lexer": "ipython3",
   "version": "3.7.6"
  },
  "vscode": {
   "interpreter": {
    "hash": "ab69f99772626cf6868bf44477978795f896165b3494f2601cb57ae920ddfcb9"
   }
  }
 },
 "nbformat": 4,
 "nbformat_minor": 2
}
